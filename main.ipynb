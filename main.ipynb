{
 "cells": [
  {
   "cell_type": "markdown",
   "metadata": {},
   "source": [
    "# 分析一下哪些定理使用最频繁"
   ]
  },
  {
   "cell_type": "code",
   "execution_count": 1,
   "metadata": {},
   "outputs": [
    {
     "name": "stdout",
     "output_type": "stream",
     "text": [
      "100\n"
     ]
    }
   ],
   "source": [
    "import json\n",
    "import os\n",
    "\n",
    "\n",
    "def read_thm_file(thmname, base = \"tests/follow/set.mm/json\"):\n",
    "    with open(os.path.join(base, thmname+\".json\"), \"r\") as f:\n",
    "        block = json.load(f)\n",
    "    return block \n",
    "\n",
    "with open(\"tests/follow/set.mm/thms.txt\", \"r\") as thms_f:\n",
    "    thms = [\n",
    "        line.strip() for line in thms_f.readlines()\n",
    "    ]  # 使用 strip() 去掉每行的换行符\n",
    "\n",
    "thm_cost_map: dict[str, int] = {}\n",
    "for thm in thms:\n",
    "    thm_info = read_thm_file(thm)\n",
    "    operators = thm_info['operators']\n",
    "    for label, _ in operators:\n",
    "        if label in thm_cost_map:\n",
    "            thm_cost_map[label] += 1\n",
    "        else:\n",
    "            thm_cost_map[label] = 1\n",
    "\n",
    "usage_count_map: dict[int, int] = {}\n",
    "for count in thm_cost_map.values():\n",
    "    if count in usage_count_map:\n",
    "        usage_count_map[count] += 1\n",
    "    else:\n",
    "        usage_count_map[count] = 1\n",
    "\n",
    "print(len(usage_count_map))"
   ]
  },
  {
   "cell_type": "code",
   "execution_count": 2,
   "metadata": {},
   "outputs": [
    {
     "name": "stdout",
     "output_type": "stream",
     "text": [
      "使用次数最多的100个定理:\n",
      "ax-mp: 540 次使用\n",
      "bitri: 478 次使用\n",
      "syl: 384 次使用\n",
      "nfv: 288 次使用\n",
      "a1i: 263 次使用\n",
      "id: 245 次使用\n",
      "3bitr4i: 237 次使用\n",
      "ex: 193 次使用\n",
      "albii: 177 次使用\n",
      "bitr4i: 174 次使用\n",
      "imp: 142 次使用\n",
      "df-ral: 137 次使用\n",
      "nfcv: 134 次使用\n",
      "sylbi: 133 次使用\n",
      "sylibr: 125 次使用\n",
      "impbii: 121 次使用\n",
      "exbii: 121 次使用\n",
      "adantl: 119 次使用\n",
      "bicomi: 116 次使用\n",
      "3bitr4g: 111 次使用\n"
     ]
    }
   ],
   "source": [
    "# 打印使用次数最多的100个thm\n",
    "sorted_thms = sorted(thm_cost_map.items(), key=lambda item: item[1], reverse=True)[:20]\n",
    "print(\"使用次数最多的100个定理:\")\n",
    "for thm, count in sorted_thms:\n",
    "    print(f\"{thm}: {count} 次使用\")"
   ]
  },
  {
   "cell_type": "markdown",
   "metadata": {},
   "source": [
    "# 分析一下定理的Cost分布"
   ]
  },
  {
   "cell_type": "code",
   "execution_count": 3,
   "metadata": {},
   "outputs": [
    {
     "name": "stdout",
     "output_type": "stream",
     "text": [
      "4890\n"
     ]
    }
   ],
   "source": [
    "\n",
    "import json\n",
    "import os\n",
    "\n",
    "\n",
    "def read_thm_file(thmname, base = \"tests/follow/set.mm/json\"):\n",
    "    with open(os.path.join(base, thmname+\".json\"), \"r\") as f:\n",
    "        block = json.load(f)\n",
    "    return block \n",
    "\n",
    "with open(\"tests/follow/set.mm/thms.txt\", \"r\") as thms_f:\n",
    "    thms = [\n",
    "        line.strip() for line in thms_f.readlines()\n",
    "    ]  # 使用 strip() 去掉每行的换行符\n",
    "\n",
    "thm_cost_map: dict[str, int] = {}\n",
    "for thm in thms:\n",
    "    thm_info = read_thm_file(thm)\n",
    "    thm_cost_map[thm] = thm_info['cost']\n",
    "\n",
    "print(len(thm_cost_map))\n"
   ]
  },
  {
   "cell_type": "code",
   "execution_count": 4,
   "metadata": {},
   "outputs": [
    {
     "name": "stdout",
     "output_type": "stream",
     "text": [
      "defaultdict(<class 'int'>, {2: 14, 3: 23, 4: 42, 5: 38, 6: 16, 7: 12, 8: 6, 9: 6, 10: 11, 12: 16, 11: 12, 1: 16, 13: 12, 14: 18, 17: 52, 15: 13, 16: 51, 18: 25, 20: 4, 22: 3, 24: 6, 25: 76, 23: 11, 26: 57, 27: 104, 28: 115, 29: 141, 32: 103, 33: 78, 34: 38, 37: 28, 38: 20, 39: 24, 30: 136, 35: 26, 42: 35, 44: 31, 31: 163, 43: 60, 41: 44, 40: 24, 50: 34, 52: 53, 55: 63, 61: 28, 66: 17, 51: 30, 19: 10, 36: 24, 45: 26, 46: 54, 49: 44, 47: 29, 53: 48, 48: 34, 54: 43, 57: 44, 56: 54, 68: 21, 69: 22, 70: 14, 21: 3, 58: 54, 59: 32, 65: 16, 62: 26, 63: 20, 64: 17, 67: 18, 60: 26, 77: 18, 79: 15, 72: 18, 71: 15, 99: 30, 74: 20, 75: 27, 80: 12, 86: 21, 87: 30, 81: 13, 88: 39, 82: 17, 90: 66, 76: 27, 110: 27, 93: 27, 97: 36, 98: 39, 103: 48, 73: 22, 78: 20, 83: 29, 102: 45, 85: 22, 89: 30, 91: 60, 100: 24, 101: 32, 108: 38, 111: 30, 121: 29, 123: 34, 127: 24, 130: 26, 147: 10, 175: 1, 84: 28, 120: 31, 94: 52, 96: 37, 106: 31, 107: 28, 109: 31, 112: 28, 116: 31, 118: 44, 117: 30, 95: 29, 92: 27, 126: 24, 135: 26, 140: 21, 113: 27, 128: 23, 104: 48, 132: 41, 139: 18, 143: 17, 146: 4, 105: 26, 131: 39, 129: 34, 134: 28, 125: 31, 119: 46, 137: 24, 122: 28, 136: 25, 149: 4, 142: 10, 144: 13, 157: 4, 133: 28, 138: 20, 124: 47, 152: 4, 156: 4, 150: 2, 148: 5, 153: 2, 114: 30, 159: 6, 176: 1, 115: 37, 141: 14, 151: 9, 145: 4, 161: 1, 165: 3, 169: 2, 163: 2, 166: 4, 193: 2, 195: 2, 196: 1, 192: 2, 183: 2, 221: 1, 235: 1, 239: 1, 180: 1, 171: 1, 173: 1, 174: 1, 164: 2, 189: 1, 205: 1, 233: 1, 168: 1, 186: 1, 222: 2, 167: 1, 191: 1, 198: 1, 218: 1, 264: 2, 220: 1, 170: 1, 215: 2, 236: 1, 160: 1, 184: 1, 185: 1, 154: 1, 181: 2})\n"
     ]
    }
   ],
   "source": [
    "from collections import defaultdict\n",
    "\n",
    "cost_cnt_map: defaultdict[int, int] = defaultdict(int)\n",
    "\n",
    "for count in thm_cost_map.values():\n",
    "    cost_cnt_map[count] += 1\n",
    "print(cost_cnt_map)"
   ]
  },
  {
   "cell_type": "markdown",
   "metadata": {},
   "source": [
    "# 生成更多的数据"
   ]
  },
  {
   "cell_type": "code",
   "execution_count": 3,
   "metadata": {},
   "outputs": [],
   "source": [
    "def get_thm(thmname, base=\"./tests/follow/set.mm/json\"):\n",
    "    with open(os.path.join(base, thmname + \".json\"), \"r\") as f:\n",
    "        thm = json.load(f)\n",
    "    if thm[\"type\"] != \"thm\":\n",
    "        return None\n",
    "    return thm"
   ]
  },
  {
   "cell_type": "code",
   "execution_count": 6,
   "metadata": {},
   "outputs": [
    {
     "name": "stdout",
     "output_type": "stream",
     "text": [
      "[['expi', ['wi ( vw0 , vw1 )', 'wi ( vw1 , vw0 )', 'wb ( vw0 , vw1 )']], ['ax-mp', ['wi ( wn ( wi ( wi ( vw0 , vw1 ) , wn ( wi ( vw1 , vw0 ) ) ) ) , wb ( vw0 , vw1 ) )', 'wn ( wi ( wi ( wb ( vw0 , vw1 ) , wn ( wi ( wi ( vw0 , vw1 ) , wn ( wi ( vw1 , vw0 ) ) ) ) ) , wn ( wi ( wn ( wi ( wi ( vw0 , vw1 ) , wn ( wi ( vw1 , vw0 ) ) ) ) , wb ( vw0 , vw1 ) ) ) ) )']], ['simprim', ['wi ( wb ( vw0 , vw1 ) , wn ( wi ( wi ( vw0 , vw1 ) , wn ( wi ( vw1 , vw0 ) ) ) ) )', 'wi ( wn ( wi ( wi ( vw0 , vw1 ) , wn ( wi ( vw1 , vw0 ) ) ) ) , wb ( vw0 , vw1 ) )']], ['df-bi', ['vw0', 'vw1']]]\n",
      "['|- wi ( wi ( vw0 , vw1 ) , wi ( wi ( vw1 , vw0 ) , wb ( vw0 , vw1 ) ) ) -| wi ( wn ( wi ( wi ( vw0 , vw1 ) , wn ( wi ( vw1 , vw0 ) ) ) ) , wb ( vw0 , vw1 ) ) <end> |- wi ( wi ( vw0 , vw1 ) , wi ( wi ( vw1 , vw0 ) , wb ( vw0 , vw1 ) ) ) -| wi ( wi ( vw0 , vw1 ) , wi ( wi ( vw1 , vw0 ) , wn ( wi ( wi ( vw0 , vw1 ) , wn ( wi ( vw1 , vw0 ) ) ) ) ) ) -| wi ( wn ( wi ( wi ( vw0 , vw1 ) , wn ( wi ( vw1 , vw0 ) ) ) ) , wb ( vw0 , vw1 ) ) <end> |- wi ( wi ( vw0 , vw1 ) , wi ( wi ( vw1 , vw0 ) , wn ( wi ( wi ( vw0 , vw1 ) , wn ( wi ( vw1 , vw0 ) ) ) ) ) ) -| wi ( wn ( wi ( wi ( vw0 , vw1 ) , wn ( wi ( vw1 , vw0 ) ) ) ) , wb ( vw0 , vw1 ) ) <end>', '|- wi ( wi ( vw0 , vw1 ) , wi ( wi ( vw1 , vw0 ) , wn ( wi ( wi ( vw0 , vw1 ) , wn ( wi ( vw1 , vw0 ) ) ) ) ) ) -| wi ( wn ( wi ( wi ( vw0 , vw1 ) , wn ( wi ( vw1 , vw0 ) ) ) ) , wb ( vw0 , vw1 ) ) <end> |- wi ( wi ( vw0 , vw1 ) , wi ( wi ( vw1 , vw0 ) , wn ( wi ( wi ( vw0 , vw1 ) , wn ( wi ( vw1 , vw0 ) ) ) ) ) ) <end> <qed>']\n",
      "['|- wi ( wn ( wi ( wi ( vw0 , vw1 ) , wn ( wi ( vw1 , vw0 ) ) ) ) , wb ( vw0 , vw1 ) ) -| wn ( wi ( wi ( wb ( vw0 , vw1 ) , wn ( wi ( wi ( vw0 , vw1 ) , wn ( wi ( vw1 , vw0 ) ) ) ) ) , wn ( wi ( wn ( wi ( wi ( vw0 , vw1 ) , wn ( wi ( vw1 , vw0 ) ) ) ) , wb ( vw0 , vw1 ) ) ) ) ) -| wi ( wn ( wi ( wi ( wb ( vw0 , vw1 ) , wn ( wi ( wi ( vw0 , vw1 ) , wn ( wi ( vw1 , vw0 ) ) ) ) ) , wn ( wi ( wn ( wi ( wi ( vw0 , vw1 ) , wn ( wi ( vw1 , vw0 ) ) ) ) , wb ( vw0 , vw1 ) ) ) ) ) , wi ( wn ( wi ( wi ( vw0 , vw1 ) , wn ( wi ( vw1 , vw0 ) ) ) ) , wb ( vw0 , vw1 ) ) ) <end> <qed>']\n",
      "['|- wi ( wn ( wi ( wi ( wb ( vw0 , vw1 ) , wn ( wi ( wi ( vw0 , vw1 ) , wn ( wi ( vw1 , vw0 ) ) ) ) ) , wn ( wi ( wn ( wi ( wi ( vw0 , vw1 ) , wn ( wi ( vw1 , vw0 ) ) ) ) , wb ( vw0 , vw1 ) ) ) ) ) , wi ( wn ( wi ( wi ( vw0 , vw1 ) , wn ( wi ( vw1 , vw0 ) ) ) ) , wb ( vw0 , vw1 ) ) ) <end> |- wi ( wn ( wi ( wi ( wb ( vw0 , vw1 ) , wn ( wi ( wi ( vw0 , vw1 ) , wn ( wi ( vw1 , vw0 ) ) ) ) ) , wn ( wi ( wn ( wi ( wi ( vw0 , vw1 ) , wn ( wi ( vw1 , vw0 ) ) ) ) , wb ( vw0 , vw1 ) ) ) ) ) , wi ( wn ( wi ( wi ( vw0 , vw1 ) , wn ( wi ( vw1 , vw0 ) ) ) ) , wb ( vw0 , vw1 ) ) ) -| wi ( wi ( wb ( vw0 , vw1 ) , wn ( wi ( wi ( vw0 , vw1 ) , wn ( wi ( vw1 , vw0 ) ) ) ) ) , wi ( wi ( wn ( wi ( wi ( vw0 , vw1 ) , wn ( wi ( vw1 , vw0 ) ) ) ) , wb ( vw0 , vw1 ) ) , wi ( wn ( wi ( wi ( vw0 , vw1 ) , wn ( wi ( vw1 , vw0 ) ) ) ) , wb ( vw0 , vw1 ) ) ) ) <end> |- wi ( wi ( wb ( vw0 , vw1 ) , wn ( wi ( wi ( vw0 , vw1 ) , wn ( wi ( vw1 , vw0 ) ) ) ) ) , wi ( wi ( wn ( wi ( wi ( vw0 , vw1 ) , wn ( wi ( vw1 , vw0 ) ) ) ) , wb ( vw0 , vw1 ) ) , wi ( wn ( wi ( wi ( vw0 , vw1 ) , wn ( wi ( vw1 , vw0 ) ) ) ) , wb ( vw0 , vw1 ) ) ) ) <end>', '|- wi ( wi ( wb ( vw0 , vw1 ) , wn ( wi ( wi ( vw0 , vw1 ) , wn ( wi ( vw1 , vw0 ) ) ) ) ) , wi ( wi ( wn ( wi ( wi ( vw0 , vw1 ) , wn ( wi ( vw1 , vw0 ) ) ) ) , wb ( vw0 , vw1 ) ) , wi ( wn ( wi ( wi ( vw0 , vw1 ) , wn ( wi ( vw1 , vw0 ) ) ) ) , wb ( vw0 , vw1 ) ) ) ) <end> |- wi ( wi ( wb ( vw0 , vw1 ) , wn ( wi ( wi ( vw0 , vw1 ) , wn ( wi ( vw1 , vw0 ) ) ) ) ) , wi ( wi ( wn ( wi ( wi ( vw0 , vw1 ) , wn ( wi ( vw1 , vw0 ) ) ) ) , wb ( vw0 , vw1 ) ) , wi ( wn ( wi ( wi ( vw0 , vw1 ) , wn ( wi ( vw1 , vw0 ) ) ) ) , wb ( vw0 , vw1 ) ) ) ) <end> <qed>']\n",
      "['|- wn ( wi ( wi ( wb ( vw0 , vw1 ) , wn ( wi ( wi ( vw0 , vw1 ) , wn ( wi ( vw1 , vw0 ) ) ) ) ) , wn ( wi ( wn ( wi ( wi ( vw0 , vw1 ) , wn ( wi ( vw1 , vw0 ) ) ) ) , wb ( vw0 , vw1 ) ) ) ) ) <end> <qed>']\n"
     ]
    }
   ],
   "source": [
    "from metamath_to_follow.generate_recursive_data import translate_operators\n",
    "\n",
    "idx = 200\n",
    "thm = get_thm(thms[idx])\n",
    "if thm:\n",
    "    print(thm[\"operators\"])\n",
    "\n",
    "for label, input_args in thm['operators']:\n",
    "    memory = translate_operators(label, input_args, base=\"./tests/follow/set.mm/json\")\n",
    "    print(memory)\n"
   ]
  }
 ],
 "metadata": {
  "kernelspec": {
   "display_name": ".venv",
   "language": "python",
   "name": "python3"
  },
  "language_info": {
   "codemirror_mode": {
    "name": "ipython",
    "version": 3
   },
   "file_extension": ".py",
   "mimetype": "text/x-python",
   "name": "python",
   "nbconvert_exporter": "python",
   "pygments_lexer": "ipython3",
   "version": "3.12.6"
  }
 },
 "nbformat": 4,
 "nbformat_minor": 2
}
