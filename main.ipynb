{
 "cells": [
  {
   "cell_type": "markdown",
   "metadata": {},
   "source": [
    "# 分析一下哪些定理使用最频繁"
   ]
  },
  {
   "cell_type": "code",
   "execution_count": 1,
   "metadata": {},
   "outputs": [
    {
     "name": "stdout",
     "output_type": "stream",
     "text": [
      "100\n"
     ]
    }
   ],
   "source": [
    "import json\n",
    "import os\n",
    "\n",
    "\n",
    "def read_thm_file(thmname, base = \"tests/follow/set.mm/json\"):\n",
    "    with open(os.path.join(base, thmname+\".json\"), \"r\") as f:\n",
    "        block = json.load(f)\n",
    "    return block \n",
    "\n",
    "with open(\"tests/follow/set.mm/json/thms.txt\", \"r\") as thms_f:\n",
    "    thms = [\n",
    "        line.strip() for line in thms_f.readlines()\n",
    "    ]  # 使用 strip() 去掉每行的换行符\n",
    "\n",
    "cnt_map: dict[str, int] = {}\n",
    "for thm in thms:\n",
    "    thm_info = read_thm_file(thm)\n",
    "    operators = thm_info['operators']\n",
    "    for label, _ in operators:\n",
    "        if label in cnt_map:\n",
    "            cnt_map[label] += 1\n",
    "        else:\n",
    "            cnt_map[label] = 1\n",
    "\n",
    "usage_count_map: dict[int, int] = {}\n",
    "for count in cnt_map.values():\n",
    "    if count in usage_count_map:\n",
    "        usage_count_map[count] += 1\n",
    "    else:\n",
    "        usage_count_map[count] = 1\n",
    "\n",
    "print(len(usage_count_map))"
   ]
  },
  {
   "cell_type": "code",
   "execution_count": 2,
   "metadata": {},
   "outputs": [
    {
     "name": "stdout",
     "output_type": "stream",
     "text": [
      "使用次数最多的100个定理:\n",
      "ax-mp: 540 次使用\n",
      "bitri: 478 次使用\n",
      "syl: 384 次使用\n",
      "nfv: 288 次使用\n",
      "a1i: 263 次使用\n",
      "id: 245 次使用\n",
      "3bitr4i: 237 次使用\n",
      "ex: 193 次使用\n",
      "albii: 177 次使用\n",
      "bitr4i: 174 次使用\n",
      "imp: 142 次使用\n",
      "df-ral: 137 次使用\n",
      "nfcv: 134 次使用\n",
      "sylbi: 133 次使用\n",
      "sylibr: 125 次使用\n",
      "impbii: 121 次使用\n",
      "exbii: 121 次使用\n",
      "adantl: 119 次使用\n",
      "bicomi: 116 次使用\n",
      "3bitr4g: 111 次使用\n"
     ]
    }
   ],
   "source": [
    "# 打印使用次数最多的100个thm\n",
    "sorted_thms = sorted(cnt_map.items(), key=lambda item: item[1], reverse=True)[:20]\n",
    "print(\"使用次数最多的100个定理:\")\n",
    "for thm, count in sorted_thms:\n",
    "    print(f\"{thm}: {count} 次使用\")"
   ]
  },
  {
   "cell_type": "markdown",
   "metadata": {},
   "source": [
    "# 生成更多的数据"
   ]
  },
  {
   "cell_type": "code",
   "execution_count": 3,
   "metadata": {},
   "outputs": [],
   "source": [
    "def get_thm(thmname, base=\"./tests/follow/set.mm/json\"):\n",
    "    with open(os.path.join(base, thmname + \".json\"), \"r\") as f:\n",
    "        thm = json.load(f)\n",
    "    if thm[\"type\"] != \"thm\":\n",
    "        return None\n",
    "    return thm"
   ]
  },
  {
   "cell_type": "code",
   "execution_count": 6,
   "metadata": {},
   "outputs": [
    {
     "name": "stdout",
     "output_type": "stream",
     "text": [
      "[['expi', ['wi ( vw0 , vw1 )', 'wi ( vw1 , vw0 )', 'wb ( vw0 , vw1 )']], ['ax-mp', ['wi ( wn ( wi ( wi ( vw0 , vw1 ) , wn ( wi ( vw1 , vw0 ) ) ) ) , wb ( vw0 , vw1 ) )', 'wn ( wi ( wi ( wb ( vw0 , vw1 ) , wn ( wi ( wi ( vw0 , vw1 ) , wn ( wi ( vw1 , vw0 ) ) ) ) ) , wn ( wi ( wn ( wi ( wi ( vw0 , vw1 ) , wn ( wi ( vw1 , vw0 ) ) ) ) , wb ( vw0 , vw1 ) ) ) ) )']], ['simprim', ['wi ( wb ( vw0 , vw1 ) , wn ( wi ( wi ( vw0 , vw1 ) , wn ( wi ( vw1 , vw0 ) ) ) ) )', 'wi ( wn ( wi ( wi ( vw0 , vw1 ) , wn ( wi ( vw1 , vw0 ) ) ) ) , wb ( vw0 , vw1 ) )']], ['df-bi', ['vw0', 'vw1']]]\n",
      "['|- wi ( wi ( vw0 , vw1 ) , wi ( wi ( vw1 , vw0 ) , wb ( vw0 , vw1 ) ) ) -| wi ( wn ( wi ( wi ( vw0 , vw1 ) , wn ( wi ( vw1 , vw0 ) ) ) ) , wb ( vw0 , vw1 ) ) <end> |- wi ( wi ( vw0 , vw1 ) , wi ( wi ( vw1 , vw0 ) , wb ( vw0 , vw1 ) ) ) -| wi ( wi ( vw0 , vw1 ) , wi ( wi ( vw1 , vw0 ) , wn ( wi ( wi ( vw0 , vw1 ) , wn ( wi ( vw1 , vw0 ) ) ) ) ) ) -| wi ( wn ( wi ( wi ( vw0 , vw1 ) , wn ( wi ( vw1 , vw0 ) ) ) ) , wb ( vw0 , vw1 ) ) <end> |- wi ( wi ( vw0 , vw1 ) , wi ( wi ( vw1 , vw0 ) , wn ( wi ( wi ( vw0 , vw1 ) , wn ( wi ( vw1 , vw0 ) ) ) ) ) ) -| wi ( wn ( wi ( wi ( vw0 , vw1 ) , wn ( wi ( vw1 , vw0 ) ) ) ) , wb ( vw0 , vw1 ) ) <end>', '|- wi ( wi ( vw0 , vw1 ) , wi ( wi ( vw1 , vw0 ) , wn ( wi ( wi ( vw0 , vw1 ) , wn ( wi ( vw1 , vw0 ) ) ) ) ) ) -| wi ( wn ( wi ( wi ( vw0 , vw1 ) , wn ( wi ( vw1 , vw0 ) ) ) ) , wb ( vw0 , vw1 ) ) <end> |- wi ( wi ( vw0 , vw1 ) , wi ( wi ( vw1 , vw0 ) , wn ( wi ( wi ( vw0 , vw1 ) , wn ( wi ( vw1 , vw0 ) ) ) ) ) ) <end> <qed>']\n",
      "['|- wi ( wn ( wi ( wi ( vw0 , vw1 ) , wn ( wi ( vw1 , vw0 ) ) ) ) , wb ( vw0 , vw1 ) ) -| wn ( wi ( wi ( wb ( vw0 , vw1 ) , wn ( wi ( wi ( vw0 , vw1 ) , wn ( wi ( vw1 , vw0 ) ) ) ) ) , wn ( wi ( wn ( wi ( wi ( vw0 , vw1 ) , wn ( wi ( vw1 , vw0 ) ) ) ) , wb ( vw0 , vw1 ) ) ) ) ) -| wi ( wn ( wi ( wi ( wb ( vw0 , vw1 ) , wn ( wi ( wi ( vw0 , vw1 ) , wn ( wi ( vw1 , vw0 ) ) ) ) ) , wn ( wi ( wn ( wi ( wi ( vw0 , vw1 ) , wn ( wi ( vw1 , vw0 ) ) ) ) , wb ( vw0 , vw1 ) ) ) ) ) , wi ( wn ( wi ( wi ( vw0 , vw1 ) , wn ( wi ( vw1 , vw0 ) ) ) ) , wb ( vw0 , vw1 ) ) ) <end> <qed>']\n",
      "['|- wi ( wn ( wi ( wi ( wb ( vw0 , vw1 ) , wn ( wi ( wi ( vw0 , vw1 ) , wn ( wi ( vw1 , vw0 ) ) ) ) ) , wn ( wi ( wn ( wi ( wi ( vw0 , vw1 ) , wn ( wi ( vw1 , vw0 ) ) ) ) , wb ( vw0 , vw1 ) ) ) ) ) , wi ( wn ( wi ( wi ( vw0 , vw1 ) , wn ( wi ( vw1 , vw0 ) ) ) ) , wb ( vw0 , vw1 ) ) ) <end> |- wi ( wn ( wi ( wi ( wb ( vw0 , vw1 ) , wn ( wi ( wi ( vw0 , vw1 ) , wn ( wi ( vw1 , vw0 ) ) ) ) ) , wn ( wi ( wn ( wi ( wi ( vw0 , vw1 ) , wn ( wi ( vw1 , vw0 ) ) ) ) , wb ( vw0 , vw1 ) ) ) ) ) , wi ( wn ( wi ( wi ( vw0 , vw1 ) , wn ( wi ( vw1 , vw0 ) ) ) ) , wb ( vw0 , vw1 ) ) ) -| wi ( wi ( wb ( vw0 , vw1 ) , wn ( wi ( wi ( vw0 , vw1 ) , wn ( wi ( vw1 , vw0 ) ) ) ) ) , wi ( wi ( wn ( wi ( wi ( vw0 , vw1 ) , wn ( wi ( vw1 , vw0 ) ) ) ) , wb ( vw0 , vw1 ) ) , wi ( wn ( wi ( wi ( vw0 , vw1 ) , wn ( wi ( vw1 , vw0 ) ) ) ) , wb ( vw0 , vw1 ) ) ) ) <end> |- wi ( wi ( wb ( vw0 , vw1 ) , wn ( wi ( wi ( vw0 , vw1 ) , wn ( wi ( vw1 , vw0 ) ) ) ) ) , wi ( wi ( wn ( wi ( wi ( vw0 , vw1 ) , wn ( wi ( vw1 , vw0 ) ) ) ) , wb ( vw0 , vw1 ) ) , wi ( wn ( wi ( wi ( vw0 , vw1 ) , wn ( wi ( vw1 , vw0 ) ) ) ) , wb ( vw0 , vw1 ) ) ) ) <end>', '|- wi ( wi ( wb ( vw0 , vw1 ) , wn ( wi ( wi ( vw0 , vw1 ) , wn ( wi ( vw1 , vw0 ) ) ) ) ) , wi ( wi ( wn ( wi ( wi ( vw0 , vw1 ) , wn ( wi ( vw1 , vw0 ) ) ) ) , wb ( vw0 , vw1 ) ) , wi ( wn ( wi ( wi ( vw0 , vw1 ) , wn ( wi ( vw1 , vw0 ) ) ) ) , wb ( vw0 , vw1 ) ) ) ) <end> |- wi ( wi ( wb ( vw0 , vw1 ) , wn ( wi ( wi ( vw0 , vw1 ) , wn ( wi ( vw1 , vw0 ) ) ) ) ) , wi ( wi ( wn ( wi ( wi ( vw0 , vw1 ) , wn ( wi ( vw1 , vw0 ) ) ) ) , wb ( vw0 , vw1 ) ) , wi ( wn ( wi ( wi ( vw0 , vw1 ) , wn ( wi ( vw1 , vw0 ) ) ) ) , wb ( vw0 , vw1 ) ) ) ) <end> <qed>']\n",
      "['|- wn ( wi ( wi ( wb ( vw0 , vw1 ) , wn ( wi ( wi ( vw0 , vw1 ) , wn ( wi ( vw1 , vw0 ) ) ) ) ) , wn ( wi ( wn ( wi ( wi ( vw0 , vw1 ) , wn ( wi ( vw1 , vw0 ) ) ) ) , wb ( vw0 , vw1 ) ) ) ) ) <end> <qed>']\n"
     ]
    }
   ],
   "source": [
    "from metamath_to_follow.generate_recursive_data import translate_operators\n",
    "\n",
    "idx = 200\n",
    "thm = get_thm(thms[idx])\n",
    "if thm:\n",
    "    print(thm[\"operators\"])\n",
    "\n",
    "for label, input_args in thm['operators']:\n",
    "    memory = translate_operators(label, input_args, base=\"./tests/follow/set.mm/json\")\n",
    "    print(memory)\n"
   ]
  }
 ],
 "metadata": {
  "kernelspec": {
   "display_name": ".venv",
   "language": "python",
   "name": "python3"
  },
  "language_info": {
   "codemirror_mode": {
    "name": "ipython",
    "version": 3
   },
   "file_extension": ".py",
   "mimetype": "text/x-python",
   "name": "python",
   "nbconvert_exporter": "python",
   "pygments_lexer": "ipython3",
   "version": "3.12.6"
  }
 },
 "nbformat": 4,
 "nbformat_minor": 2
}
