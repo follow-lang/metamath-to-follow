{
 "cells": [
  {
   "cell_type": "code",
   "execution_count": 2,
   "metadata": {},
   "outputs": [
    {
     "name": "stdout",
     "output_type": "stream",
     "text": [
      "4890\n"
     ]
    }
   ],
   "source": [
    "import json\n",
    "import os\n",
    "\n",
    "\n",
    "def read_thm_file(thmname, base = \"tests/follow/set.mm/json\"):\n",
    "    with open(os.path.join(base, thmname+\".json\"), \"r\") as f:\n",
    "        block = json.load(f)\n",
    "    return block \n",
    "\n",
    "with open(\"tests/follow/set.mm/json/thms.txt\", \"r\") as thms_f:\n",
    "    thms = [\n",
    "        line.strip() for line in thms_f.readlines()\n",
    "    ]  # 使用 strip() 去掉每行的换行符\n",
    "print(len(thms))"
   ]
  },
  {
   "cell_type": "markdown",
   "metadata": {},
   "source": [
    "# 分析一下哪些定理使用最频繁"
   ]
  },
  {
   "cell_type": "code",
   "execution_count": null,
   "metadata": {},
   "outputs": [],
   "source": [
    "import json\n",
    "import os\n",
    "\n",
    "\n",
    "def read_thm_file(thmname, base = \"tests/follow/set.mm/json\"):\n",
    "    with open(os.path.join(base, thmname+\".json\"), \"r\") as f:\n",
    "        block = json.load(f)\n",
    "    return block \n",
    "\n",
    "with open(\"tests/follow/set.mm/json/thms.txt\", \"r\") as thms_f:\n",
    "    thms = [\n",
    "        line.strip() for line in thms_f.readlines()\n",
    "    ]  # 使用 strip() 去掉每行的换行符\n",
    "print(len(thms))"
   ]
  }
 ],
 "metadata": {
  "kernelspec": {
   "display_name": ".venv",
   "language": "python",
   "name": "python3"
  },
  "language_info": {
   "codemirror_mode": {
    "name": "ipython",
    "version": 3
   },
   "file_extension": ".py",
   "mimetype": "text/x-python",
   "name": "python",
   "nbconvert_exporter": "python",
   "pygments_lexer": "ipython3",
   "version": "3.12.6"
  }
 },
 "nbformat": 4,
 "nbformat_minor": 2
}
